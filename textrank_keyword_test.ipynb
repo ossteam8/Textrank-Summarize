{
 "cells": [
  {
   "cell_type": "code",
   "execution_count": 211,
   "id": "pressing-milton",
   "metadata": {},
   "outputs": [],
   "source": [
    "import platform\n",
    "from collections import Counter\n",
    "\n",
    "import numpy as np\n",
    "\n",
    "# tokenizer import\n",
    "from konlpy.tag import Okt, Komoran, Hannanum, Kkma\n",
    "\n",
    "#운영체제에 따라 mecab설치 방법이 다름.\n",
    "if platform.system() == \"Windows\":\n",
    "    try:\n",
    "        from eunjeon import Mecab\n",
    "    except:\n",
    "        print(\"please install eunjeon module\")\n",
    "else:  # Ubuntu일 경우\n",
    "    from konlpy.tag import Mecab\n",
    "\n",
    "from typing import List, Callable, Union, Any, TypeVar, Tuple, Dict\n",
    "\n",
    "from functools import partial\n",
    "from sklearn.feature_extraction.text import CountVectorizer\n"
   ]
  },
  {
   "cell_type": "code",
   "execution_count": 212,
   "id": "possible-delivery",
   "metadata": {},
   "outputs": [
    {
     "name": "stdout",
     "output_type": "stream",
     "text": [
      "['오패산터널 총격전 용의자 검거 서울 연합뉴스 경찰 관계자들이 19일 오후 서울 강북구 오패산 터널 인근에서 사제 총기를 발사해 경찰을 살해한 용의자 성모씨를 검거하고 있다 성씨는 검거 당시 서바이벌 게임에서 쓰는 방탄조끼에 헬멧까지 착용한 상태였다', '서울 연합뉴스 김은경 기자 사제 총기로 경찰을 살해한 범인 성모 46 씨는 주도면밀했다', '경찰에 따르면 성씨는 19일 오후 강북경찰서 인근 부동산 업소 밖에서 부동산업자 이모 67 씨가 나오기를 기다렸다 이씨와는 평소에도 말다툼을 자주 한 것으로 알려졌다', '이씨가 나와 걷기 시작하자 성씨는 따라가면서 미리 준비해온 사제 총기를 이씨에게 발사했다 총알이 빗나가면서 이씨는 도망갔다 그 빗나간 총알은 지나가던 행인 71 씨의 배를 스쳤다', '성씨는 강북서 인근 치킨집까지 이씨 뒤를 쫓으며 실랑이하다 쓰러뜨린 후 총기와 함께 가져온 망치로 이씨 머리를 때렸다', '이 과정에서 오후 6시 20분께 강북구 번동 길 위에서 사람들이 싸우고 있다 총소리가 났다 는 등의 신고가 여러건 들어왔다', '5분 후에 성씨의 전자발찌가 훼손됐다는 신고가 보호관찰소 시스템을 통해 들어왔다 성범죄자로 전자발찌를 차고 있던 성씨는 부엌칼로 직접 자신의 발찌를 끊었다', '용의자 소지 사제총기 2정 서울 연합뉴스 임헌정 기자 서울 시내에서 폭행 용의자가 현장 조사를 벌이던 경찰관에게 사제총기를 발사해 경찰관이 숨졌다 19일 오후 6시28분 강북구 번동에서 둔기로 맞았다 는 폭행 피해 신고가 접수돼 현장에서 조사하던 강북경찰서 번동파출소 소속 김모 54 경위가 폭행 용의자 성모 45 씨가 쏜 사제총기에 맞고 쓰러진 뒤 병원에 옮겨졌으나 숨졌다 사진은 용의자가 소지한 사제총기', '신고를 받고 번동파출소에서 김창호 54 경위 등 경찰들이 오후 6시 29분께 현장으로 출동했다 성씨는 그사이 부동산 앞에 놓아뒀던 가방을 챙겨 오패산 쪽으로 도망간 후였다', '김 경위는 오패산 터널 입구 오른쪽의 급경사에서 성씨에게 접근하다가 오후 6시 33분께 풀숲에 숨은 성씨가 허공에 난사한 10여발의 총알 중 일부를 왼쪽 어깨 뒷부분에 맞고 쓰러졌다', '김 경위는 구급차가 도착했을 때 이미 의식이 없었고 심폐소생술을 하며 병원으로 옮겨졌으나 총알이 폐를 훼손해 오후 7시 40분께 사망했다', '김 경위는 외근용 조끼를 입고 있었으나 총알을 막기에는 역부족이었다', '머리에 부상을 입은 이씨도 함께 병원으로 이송됐으나 생명에는 지장이 없는 것으로 알려졌다', '성씨는 오패산 터널 밑쪽 숲에서 오후 6시 45분께 잡혔다', '총격현장 수색하는 경찰들 서울 연합뉴스 이효석 기자 19일 오후 서울 강북구 오패산 터널 인근에서 경찰들이 폭행 용의자가 사제총기를 발사해 경찰관이 사망한 사건을 조사 하고 있다', '총 때문에 쫓던 경관들과 민간인들이 몸을 숨겼는데 인근 신발가게 직원 이모씨가 다가가 성씨를 덮쳤고 이어 현장에 있던 다른 상인들과 경찰이 가세해 체포했다', '성씨는 경찰에 붙잡힌 직후 나 자살하려고 한 거다 맞아 죽어도 괜찮다 고 말한 것으로 전해졌다', '성씨 자신도 경찰이 발사한 공포탄 1발 실탄 3발 중 실탄 1발을 배에 맞았으나 방탄조끼를 입은 상태여서 부상하지는 않았다', '경찰은 인근을 수색해 성씨가 만든 사제총 16정과 칼 7개를 압수했다 실제 폭발할지는 알 수 없는 요구르트병에 무언가를 채워두고 심지를 꽂은 사제 폭탄도 발견됐다', '일부는 숲에서 발견됐고 일부는 성씨가 소지한 가방 안에 있었다', '']\n"
     ]
    }
   ],
   "source": [
    "with open(\"./sents.txt\", \"r\") as f:\n",
    "    sents = f.read().split(\"\\n\")\n",
    "print(sents)"
   ]
  },
  {
   "cell_type": "code",
   "execution_count": 213,
   "id": "hybrid-davis",
   "metadata": {},
   "outputs": [],
   "source": [
    "def get_tokenizer(tokenizer_name):\n",
    "    if tokenizer_name == \"komoran\":\n",
    "        tokenizer = Komoran()\n",
    "    elif tokenizer_name == \"okt\":\n",
    "        tokenizer = Okt()\n",
    "    elif tokenizer_name == \"mecab\":\n",
    "        tokenizer = Mecab()\n",
    "    elif tokenizer_name == \"hannanum\":\n",
    "        tokenizer = Hannanum()\n",
    "    elif tokenizer_name == \"kkma\":\n",
    "        tokenizer = Kkma()\n",
    "    else:\n",
    "        tokenizer = Mecab()\n",
    "    return tokenizer"
   ]
  },
  {
   "cell_type": "code",
   "execution_count": 214,
   "id": "thousand-burton",
   "metadata": {},
   "outputs": [],
   "source": [
    "def get_tokens(sent: List[str], noun=True, tokenizer=\"mecab\") -> List[str]:\n",
    "    tokenizer = get_tokenizer(tokenizer)\n",
    "\n",
    "    if noun:\n",
    "        nouns = tokenizer.nouns(sent)\n",
    "        print('n',nouns)\n",
    "        nouns = [word for word in nouns if len(word) > 1]\n",
    "        print('nouns',nouns)\n",
    "        return nouns\n",
    "    \n",
    "    return tokenizer.morphs(sent)\n"
   ]
  },
  {
   "cell_type": "code",
   "execution_count": 215,
   "id": "settled-decision",
   "metadata": {},
   "outputs": [],
   "source": []
  },
  {
   "cell_type": "code",
   "execution_count": 216,
   "id": "arranged-rolling",
   "metadata": {},
   "outputs": [],
   "source": [
    "#stopwords = [\"연합뉴스\", \"가방\"]\n",
    "\n",
    "#vectorizer = CountVectorizer(\n",
    "    #stop_words=stopwords,\n",
    "    #tokenizer=partial(get_tokens, noun=True, tokenizer=\"mecab\"),\n",
    "    #min_df=2,\n",
    "#)\n",
    "# 코퍼스로부터 각 단어의 빈도 수를 기록.\n",
    "#x = vectorizer.fit_transform(sents)\n",
    "#print('x',x)\n",
    "#x.toarray().shape\n",
    "#print('x',x.toarray())\n",
    "\n",
    "\n",
    "# 각 단어의 인덱스가 어떻게 부여되었는지를 보여줌.\n",
    "#vocab_idx = vectorizer.vocabulary_\n",
    "#print('v',vocab_idx)\n",
    "#idx_vocab = {idx: vocab for vocab, idx in vocab_idx.items()}\n",
    "#print(idx_vocab)"
   ]
  },
  {
   "cell_type": "code",
   "execution_count": 219,
   "id": "adapted-hybrid",
   "metadata": {},
   "outputs": [],
   "source": [
    "def vectorize_sents(\n",
    "    sents: List[str], stopwords=None, min_count=2, tokenizer=\"mecab\", noun=True\n",
    "):\n",
    "\n",
    "    vectorizer = CountVectorizer(\n",
    "        stop_words=stopwords,\n",
    "        tokenizer=partial(get_tokens, noun=noun, tokenizer=\"mecab\"),\n",
    "        min_df=min_count,\n",
    "    )\n",
    "\n",
    "    vec = vectorizer.fit_transform(sents)\n",
    "    print(vec)\n",
    "    vocab_idx = vectorizer.vocabulary_\n",
    "    print(vocab_idx)\n",
    "    idx_vocab = {idx: vocab for vocab, idx in vocab_idx.items()}\n",
    "    print(idx_vocab)\n",
    "    \n",
    "    return vec, vocab_idx, idx_vocab"
   ]
  },
  {
   "cell_type": "code",
   "execution_count": 220,
   "id": "bibliographic-covering",
   "metadata": {},
   "outputs": [],
   "source": [
    "#stopwords = [\"연합뉴스\", \"가방\"]\n",
    "#x, vocab_idx, idx_vocab = vectorize_sents(sents, stopwords)\n",
    "\n",
    "#print('x',x)\n"
   ]
  },
  {
   "cell_type": "code",
   "execution_count": 221,
   "id": "conscious-seven",
   "metadata": {},
   "outputs": [],
   "source": [
    "def word_similarity_matrix(x, min_sim=0.3):\n",
    "    sim_mat = 1 - pairwise_distances(x.T, metric=\"cosine\")\n",
    "    sim_mat[np.where(sim_mat <= min_sim)] = 0\n",
    "\n",
    "    return sim_mat"
   ]
  },
  {
   "cell_type": "code",
   "execution_count": 222,
   "id": "strong-solid",
   "metadata": {},
   "outputs": [],
   "source": [
    "mat = word_similarity_matrix(x)"
   ]
  },
  {
   "cell_type": "code",
   "execution_count": 223,
   "id": "public-serum",
   "metadata": {},
   "outputs": [],
   "source": [
    "def word_graph(\n",
    "    sents: List[str],\n",
    "    min_count=2,\n",
    "    min_sim=0.3,\n",
    "    tokenizer=\"mecab\",\n",
    "    noun=True,\n",
    "    stopwords: List[str] = [\"연합뉴스\", \"그리고\", \"기자\"],\n",
    "):\n",
    "\n",
    "    mat, vocab_idx, idx_vocab = vectorize_sents(\n",
    "        sents, stopwords, min_count=min_count, tokenizer=tokenizer, noun=noun\n",
    "    )\n",
    "\n",
    "    mat = word_similarity_matrix(mat, min_sim=min_sim)\n",
    "\n",
    "    return mat, vocab_idx, idx_vocab"
   ]
  },
  {
   "cell_type": "code",
   "execution_count": 224,
   "id": "medium-camera",
   "metadata": {},
   "outputs": [
    {
     "name": "stdout",
     "output_type": "stream",
     "text": [
      "n ['기자']\n",
      "nouns ['기자']\n",
      "n ['연합뉴스']\n",
      "nouns ['연합뉴스']\n",
      "n []\n",
      "nouns []\n",
      "n ['오', '패산', '터널', '총격전', '용의자', '검거', '서울', '연합뉴스', '경찰', '관계자', '일', '오후', '서울', '강북구', '오', '패산', '터널', '인근', '사제', '총기', '발사', '경찰', '살해', '용의자', '모씨', '검거', '성', '씨', '검거', '당시', '서바이벌', '게임', '방탄조끼', '헬멧', '착용', '상태']\n",
      "nouns ['패산', '터널', '총격전', '용의자', '검거', '서울', '연합뉴스', '경찰', '관계자', '오후', '서울', '강북구', '패산', '터널', '인근', '사제', '총기', '발사', '경찰', '살해', '용의자', '모씨', '검거', '검거', '당시', '서바이벌', '게임', '방탄조끼', '헬멧', '착용', '상태']\n",
      "n ['서울', '연합뉴스', '김은경', '기자', '사제', '총기', '경찰', '살해', '범인', '성모', '씨']\n",
      "nouns ['서울', '연합뉴스', '김은경', '기자', '사제', '총기', '경찰', '살해', '범인', '성모']\n",
      "n ['경찰', '성', '씨', '일', '오후', '강북', '경찰서', '인근', '부동산', '업소', '밖', '부동산', '업자', '이모', '씨', '이', '씨', '평소', '말다툼', '자주', '것']\n",
      "nouns ['경찰', '오후', '강북', '경찰서', '인근', '부동산', '업소', '부동산', '업자', '이모', '평소', '말다툼', '자주']\n",
      "n ['씨', '시작', '성', '씨', '준비', '사제', '총기', '이', '씨', '발사', '총알', '이', '씨', '총알', '행인', '씨', '배']\n",
      "nouns ['시작', '준비', '사제', '총기', '발사', '총알', '총알', '행인']\n",
      "n ['성', '씨', '강북', '인근', '치킨', '집', '뒤', '실랑이', '후', '총기', '망치', '머리']\n",
      "nouns ['강북', '인근', '치킨', '실랑이', '총기', '망치', '머리']\n",
      "n ['과정', '오후', '시', '분', '강북구', '번동', '길', '위', '사람', '소리', '등', '신고', '건']\n",
      "nouns ['과정', '오후', '강북구', '번동', '사람', '소리', '신고']\n",
      "n ['분', '후', '성씨', '전자', '발찌', '훼손', '신고', '보호관', '찰소', '시스템', '성범죄자', '전자', '발찌', '성씨', '부엌칼', '자신', '발찌']\n",
      "nouns ['성씨', '전자', '발찌', '훼손', '신고', '보호관', '찰소', '시스템', '성범죄자', '전자', '발찌', '성씨', '부엌칼', '자신', '발찌']\n",
      "n ['용의자', '소지', '사제', '총기', '정', '서울', '연합뉴스', '임헌정', '기자', '서울', '시내', '폭행', '의자', '현장', '조사', '경찰관', '사제', '총기', '발사', '경찰관', '일', '오후', '시', '분', '강북구', '번동', '둔기', '폭행', '피해', '신고', '접수', '현장', '조사', '강북', '경찰서', '번동', '파출소', '소속', '김', '모', '경위', '폭행', '의자', '성모', '씨', '사제', '총기', '뒤', '병원', '사진', '용의자', '소지', '사제', '총기']\n",
      "nouns ['용의자', '소지', '사제', '총기', '서울', '연합뉴스', '임헌정', '기자', '서울', '시내', '폭행', '의자', '현장', '조사', '경찰관', '사제', '총기', '발사', '경찰관', '오후', '강북구', '번동', '둔기', '폭행', '피해', '신고', '접수', '현장', '조사', '강북', '경찰서', '번동', '파출소', '소속', '경위', '폭행', '의자', '성모', '사제', '총기', '병원', '사진', '용의자', '소지', '사제', '총기']\n",
      "n ['신고', '번동', '파출소', '김창호', '경위', '등', '경찰', '오후', '시', '분', '현장', '출동', '성', '씨', '사이', '부동산', '앞', '가방', '오', '패산', '쪽', '후']\n",
      "nouns ['신고', '번동', '파출소', '김창호', '경위', '경찰', '오후', '현장', '출동', '사이', '부동산', '가방', '패산']\n",
      "n ['김', '경위', '오패', '터널', '입구', '오른쪽', '급경사', '성씨', '접근', '오후', '시', '분', '풀숲', '성씨', '허공', '난사', '발', '총알', '중', '일부', '왼쪽', '어깨', '뒷부분']\n",
      "nouns ['경위', '오패', '터널', '입구', '오른쪽', '급경사', '성씨', '접근', '오후', '풀숲', '성씨', '허공', '난사', '총알', '일부', '왼쪽', '어깨', '뒷부분']\n",
      "n ['김', '경위', '구급차', '도착', '때', '의식', '심폐', '소생', '술', '병원', '총알', '폐', '훼손', '오후', '시', '분', '사망']\n",
      "nouns ['경위', '구급차', '도착', '의식', '심폐', '소생', '병원', '총알', '훼손', '오후', '사망']\n",
      "n ['김', '경위', '외근', '조끼', '총알', '역부족']\n",
      "nouns ['경위', '외근', '조끼', '총알', '역부족']\n",
      "n ['머리', '부상', '이', '씨', '병원', '이송', '생명', '지장', '것']\n",
      "nouns ['머리', '부상', '병원', '이송', '생명', '지장']\n",
      "n ['성', '씨', '오패', '터널', '밑', '쪽', '숲', '오후', '시', '분']\n",
      "nouns ['오패', '터널', '오후']\n",
      "n ['총격', '현장', '수색', '경찰', '서울', '연합뉴스', '이효석', '기자', '일', '오후', '서울', '강북구', '오', '패산', '터널', '인근', '경찰', '폭행', '의자', '사제', '총기', '발사', '경찰관', '사망', '사건', '조사']\n",
      "nouns ['총격', '현장', '수색', '경찰', '서울', '연합뉴스', '이효석', '기자', '오후', '서울', '강북구', '패산', '터널', '인근', '경찰', '폭행', '의자', '사제', '총기', '발사', '경찰관', '사망', '사건', '조사']\n",
      "n ['때문', '경관', '민간인', '몸', '인근', '신발', '가게', '직원', '모씨', '성씨', '현장', '상인', '경찰', '가세', '체포']\n",
      "nouns ['때문', '경관', '민간인', '인근', '신발', '가게', '직원', '모씨', '성씨', '현장', '상인', '경찰', '가세', '체포']\n",
      "n ['성', '씨', '경찰', '직후', '자살', '거', '말', '것']\n",
      "nouns ['경찰', '직후', '자살']\n",
      "n ['성씨', '자신', '경찰', '발사', '공포탄', '발', '실탄', '발', '중', '실탄', '발', '배', '방탄조끼', '상태', '부상']\n",
      "nouns ['성씨', '자신', '경찰', '발사', '공포탄', '실탄', '실탄', '방탄조끼', '상태', '부상']\n",
      "n ['경찰', '인근', '수색', '성씨', '사제총', '정', '칼', '개', '압수', '폭발', '수', '요구르트', '병', '무언가', '심지', '사제', '폭탄', '발견']\n",
      "nouns ['경찰', '인근', '수색', '성씨', '사제총', '압수', '폭발', '요구르트', '무언가', '심지', '사제', '폭탄', '발견']\n",
      "n ['일부', '숲', '발견', '일부', '성씨', '소지', '가방', '안']\n",
      "nouns ['일부', '발견', '일부', '성씨', '소지', '가방']\n",
      "n []\n",
      "nouns []\n",
      "  (0, 38)\t2\n",
      "  (0, 36)\t2\n",
      "  (0, 28)\t2\n",
      "  (0, 20)\t2\n",
      "  (0, 4)\t2\n",
      "  (0, 27)\t1\n",
      "  (0, 2)\t1\n",
      "  (0, 30)\t1\n",
      "  (0, 17)\t1\n",
      "  (0, 34)\t1\n",
      "  (0, 10)\t1\n",
      "  (0, 18)\t1\n",
      "  (0, 8)\t1\n",
      "  (0, 11)\t1\n",
      "  (0, 19)\t1\n",
      "  (1, 20)\t1\n",
      "  (1, 4)\t1\n",
      "  (1, 17)\t1\n",
      "  (1, 34)\t1\n",
      "  (1, 18)\t1\n",
      "  (1, 21)\t1\n",
      "  (2, 4)\t1\n",
      "  (2, 27)\t1\n",
      "  (2, 30)\t1\n",
      "  (2, 1)\t1\n",
      "  :\t:\n",
      "  (14, 24)\t1\n",
      "  (15, 4)\t1\n",
      "  (15, 30)\t1\n",
      "  (15, 8)\t1\n",
      "  (15, 22)\t1\n",
      "  (15, 40)\t1\n",
      "  (16, 4)\t1\n",
      "  (17, 4)\t1\n",
      "  (17, 10)\t1\n",
      "  (17, 11)\t1\n",
      "  (17, 19)\t1\n",
      "  (17, 22)\t1\n",
      "  (17, 32)\t1\n",
      "  (17, 15)\t1\n",
      "  (18, 4)\t1\n",
      "  (18, 30)\t1\n",
      "  (18, 17)\t1\n",
      "  (18, 22)\t1\n",
      "  (18, 24)\t1\n",
      "  (18, 9)\t1\n",
      "  (19, 22)\t1\n",
      "  (19, 23)\t1\n",
      "  (19, 0)\t1\n",
      "  (19, 31)\t2\n",
      "  (19, 9)\t1\n",
      "{'패산': 38, '터널': 36, '용의자': 28, '서울': 20, '경찰': 4, '오후': 27, '강북구': 2, '인근': 30, '사제': 17, '총기': 34, '발사': 10, '살해': 18, '모씨': 8, '방탄조끼': 11, '상태': 19, '성모': 21, '강북': 1, '경찰서': 6, '부동산': 14, '총알': 35, '머리': 7, '번동': 12, '신고': 25, '성씨': 22, '훼손': 41, '자신': 32, '소지': 23, '폭행': 39, '의자': 29, '현장': 40, '조사': 33, '경찰관': 5, '파출소': 37, '경위': 3, '병원': 13, '가방': 0, '오패': 26, '일부': 31, '사망': 16, '부상': 15, '수색': 24, '발견': 9}\n",
      "{38: '패산', 36: '터널', 28: '용의자', 20: '서울', 4: '경찰', 27: '오후', 2: '강북구', 30: '인근', 17: '사제', 34: '총기', 10: '발사', 18: '살해', 8: '모씨', 11: '방탄조끼', 19: '상태', 21: '성모', 1: '강북', 6: '경찰서', 14: '부동산', 35: '총알', 7: '머리', 12: '번동', 25: '신고', 22: '성씨', 41: '훼손', 32: '자신', 23: '소지', 39: '폭행', 29: '의자', 40: '현장', 33: '조사', 5: '경찰관', 37: '파출소', 3: '경위', 13: '병원', 0: '가방', 26: '오패', 31: '일부', 16: '사망', 15: '부상', 24: '수색', 9: '발견'}\n"
     ]
    }
   ],
   "source": [
    "mat, vocab_idx, idx_vocab = word_graph(sents)\n"
   ]
  },
  {
   "cell_type": "code",
   "execution_count": 225,
   "id": "identical-cardiff",
   "metadata": {},
   "outputs": [],
   "source": [
    "def pagerank(x: np.ndarray, df=0.85, max_iter=50, method=\"iterative\"):\n",
    "\n",
    "    assert 0 < df < 1\n",
    "\n",
    "    A = normalize(mat, axis=0, norm=\"l1\")\n",
    "    N = np.ones(A.shape[0]) / A.shape[0]\n",
    "\n",
    "    if method == \"iterative\":\n",
    "        R = np.ones(A.shape[0])\n",
    "        for _ in range(max_iter):\n",
    "            R = df * np.matmul(A, R) + (1 - df) * N\n",
    "    elif method == \"algebraic\":\n",
    "        R = np.linalg.inv((I - df * A))\n",
    "        R = np.matmul(R, (1 - df) * N)\n",
    "\n",
    "    return R"
   ]
  },
  {
   "cell_type": "code",
   "execution_count": 226,
   "id": "nervous-version",
   "metadata": {},
   "outputs": [],
   "source": [
    "\n",
    "def pagerank(x, df=0.85, max_iter=30,method=\"iterative\"):\n",
    "    assert 0 < df < 1\n",
    "    if method == \"iterative\":\n",
    "        # initialize\n",
    "        A = normalize(x, axis=0, norm='l1')\n",
    "        R = np.ones(A.shape[0]).reshape(-1,1)\n",
    "        bias = (1 - df) * np.ones(A.shape[0]).reshape(-1,1)\n",
    "\n",
    "        # iteration\n",
    "        for _ in range(max_iter):\n",
    "            R = df * (A * R) + bias\n",
    "\n",
    "    return R"
   ]
  },
  {
   "cell_type": "code",
   "execution_count": 227,
   "id": "rocky-tender",
   "metadata": {},
   "outputs": [],
   "source": [
    "R = pagerank(mat,method =\"iterative\")"
   ]
  },
  {
   "cell_type": "code",
   "execution_count": 228,
   "id": "respective-person",
   "metadata": {},
   "outputs": [],
   "source": [
    "topk = 10\n",
    "idxs = R.argsort()[-topk:]\n"
   ]
  },
  {
   "cell_type": "code",
   "execution_count": null,
   "id": "superior-march",
   "metadata": {},
   "outputs": [],
   "source": []
  },
  {
   "cell_type": "code",
   "execution_count": 229,
   "id": "different-amendment",
   "metadata": {},
   "outputs": [
    {
     "ename": "TypeError",
     "evalue": "unhashable type: 'numpy.ndarray'",
     "output_type": "error",
     "traceback": [
      "\u001b[0;31m---------------------------------------------------------------------------\u001b[0m",
      "\u001b[0;31mTypeError\u001b[0m                                 Traceback (most recent call last)",
      "\u001b[0;32m<ipython-input-229-fe432c3f4874>\u001b[0m in \u001b[0;36m<module>\u001b[0;34m\u001b[0m\n\u001b[0;32m----> 1\u001b[0;31m \u001b[0mkeywords\u001b[0m \u001b[0;34m=\u001b[0m \u001b[0;34m[\u001b[0m\u001b[0;34m(\u001b[0m\u001b[0midx\u001b[0m\u001b[0;34m,\u001b[0m \u001b[0mR\u001b[0m\u001b[0;34m[\u001b[0m\u001b[0midx\u001b[0m\u001b[0;34m]\u001b[0m\u001b[0;34m,\u001b[0m \u001b[0midx_vocab\u001b[0m\u001b[0;34m[\u001b[0m\u001b[0midx\u001b[0m\u001b[0;34m]\u001b[0m\u001b[0;34m)\u001b[0m \u001b[0;32mfor\u001b[0m \u001b[0midx\u001b[0m \u001b[0;32min\u001b[0m \u001b[0mreversed\u001b[0m\u001b[0;34m(\u001b[0m\u001b[0midxs\u001b[0m\u001b[0;34m)\u001b[0m\u001b[0;34m]\u001b[0m\u001b[0;34m\u001b[0m\u001b[0;34m\u001b[0m\u001b[0m\n\u001b[0m",
      "\u001b[0;32m<ipython-input-229-fe432c3f4874>\u001b[0m in \u001b[0;36m<listcomp>\u001b[0;34m(.0)\u001b[0m\n\u001b[0;32m----> 1\u001b[0;31m \u001b[0mkeywords\u001b[0m \u001b[0;34m=\u001b[0m \u001b[0;34m[\u001b[0m\u001b[0;34m(\u001b[0m\u001b[0midx\u001b[0m\u001b[0;34m,\u001b[0m \u001b[0mR\u001b[0m\u001b[0;34m[\u001b[0m\u001b[0midx\u001b[0m\u001b[0;34m]\u001b[0m\u001b[0;34m,\u001b[0m \u001b[0midx_vocab\u001b[0m\u001b[0;34m[\u001b[0m\u001b[0midx\u001b[0m\u001b[0;34m]\u001b[0m\u001b[0;34m)\u001b[0m \u001b[0;32mfor\u001b[0m \u001b[0midx\u001b[0m \u001b[0;32min\u001b[0m \u001b[0mreversed\u001b[0m\u001b[0;34m(\u001b[0m\u001b[0midxs\u001b[0m\u001b[0;34m)\u001b[0m\u001b[0;34m]\u001b[0m\u001b[0;34m\u001b[0m\u001b[0;34m\u001b[0m\u001b[0m\n\u001b[0m",
      "\u001b[0;31mTypeError\u001b[0m: unhashable type: 'numpy.ndarray'"
     ]
    }
   ],
   "source": [
    "keywords = [(idx, R[idx], idx_vocab[idx]) for idx in reversed(idxs)]"
   ]
  },
  {
   "cell_type": "code",
   "execution_count": 230,
   "id": "coated-institution",
   "metadata": {},
   "outputs": [
    {
     "data": {
      "text/plain": [
       "[(0.038171474706220364, '서울'),\n",
       " (0.03590352211807886, '발사'),\n",
       " (0.03567521486237227, '용의자'),\n",
       " (0.03458053216612935, '강북구'),\n",
       " (0.03455531359160814, '사제'),\n",
       " (0.034091948403762985, '의자'),\n",
       " (0.034091948403762985, '조사'),\n",
       " (0.034091948403762985, '경찰관'),\n",
       " (0.03328840487152944, '총기'),\n",
       " (0.03296229487665027, '폭행')]"
      ]
     },
     "execution_count": 230,
     "metadata": {},
     "output_type": "execute_result"
    }
   ],
   "source": [
    "keywords"
   ]
  },
  {
   "cell_type": "code",
   "execution_count": null,
   "id": "several-replacement",
   "metadata": {},
   "outputs": [],
   "source": []
  },
  {
   "cell_type": "code",
   "execution_count": null,
   "id": "advance-kidney",
   "metadata": {},
   "outputs": [],
   "source": []
  },
  {
   "cell_type": "code",
   "execution_count": null,
   "id": "concrete-region",
   "metadata": {},
   "outputs": [],
   "source": []
  }
 ],
 "metadata": {
  "kernelspec": {
   "display_name": "Python 3",
   "language": "python",
   "name": "python3"
  },
  "language_info": {
   "codemirror_mode": {
    "name": "ipython",
    "version": 3
   },
   "file_extension": ".py",
   "mimetype": "text/x-python",
   "name": "python",
   "nbconvert_exporter": "python",
   "pygments_lexer": "ipython3",
   "version": "3.9.2"
  }
 },
 "nbformat": 4,
 "nbformat_minor": 5
}
